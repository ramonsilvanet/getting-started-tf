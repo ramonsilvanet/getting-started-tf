{
 "cells": [
  {
   "cell_type": "markdown",
   "metadata": {},
   "source": [
    "# Básico de Python\n",
    "### Sintaxe"
   ]
  },
  {
   "cell_type": "markdown",
   "metadata": {},
   "source": [
    "No Python, um terminador de linha não é necessário e os blocos são especificados com o recuo. Recuar para começar um bloco e remover o recuo para concluí-lo, isso é tudo. As instruções que exigem um bloco recuado terminam com dois pontos (:). Os comentários começam com o sinal de hash (#) e são de linha única. Strings em várias linhas são usadas para comentários de várias linhas. As atribuições são realizadas com o sinal de igual (=). Para testes de igualdade, usamos o símbolo double equal (==). Você pode aumentar e diminuir um valor usando + = e - = seguido pelo addend. Isso funciona com muitos tipos de dados, incluindo strings. Você pode atribuir e usar múltiplas variáveis ​​na mesma linha.\n",
    "\n",
    "A seguir, alguns exemplos:"
   ]
  },
  {
   "cell_type": "code",
   "execution_count": 3,
   "metadata": {},
   "outputs": [
    {
     "data": {
      "text/plain": [
       "5"
      ]
     },
     "execution_count": 3,
     "metadata": {},
     "output_type": "execute_result"
    }
   ],
   "source": [
    "myvar = 3\n",
    "myvar +=2\n",
    "myvar"
   ]
  },
  {
   "cell_type": "code",
   "execution_count": 4,
   "metadata": {},
   "outputs": [
    {
     "data": {
      "text/plain": [
       "4"
      ]
     },
     "execution_count": 4,
     "metadata": {},
     "output_type": "execute_result"
    }
   ],
   "source": [
    "myvar -= 1\n",
    "myvar"
   ]
  },
  {
   "cell_type": "code",
   "execution_count": 8,
   "metadata": {},
   "outputs": [
    {
     "data": {
      "text/plain": [
       "'Hello world.'"
      ]
     },
     "execution_count": 8,
     "metadata": {},
     "output_type": "execute_result"
    }
   ],
   "source": [
    "#Isto é um comentário\n",
    "\"\"\"\n",
    "    Isto também é um comentário\n",
    "    só que com múltiplas linhas\n",
    "\"\"\"\n",
    "\n",
    "mystring = \"Hello\"\n",
    "mystring += \" world.\"\n",
    "mystring"
   ]
  },
  {
   "cell_type": "code",
   "execution_count": 9,
   "metadata": {},
   "outputs": [
    {
     "data": {
      "text/plain": [
       "('Hello world.', 4)"
      ]
     },
     "execution_count": 9,
     "metadata": {},
     "output_type": "execute_result"
    }
   ],
   "source": [
    "myvar, mystring = mystring, myvar\n",
    "myvar, mystring"
   ]
  },
  {
   "cell_type": "markdown",
   "metadata": {},
   "source": [
    "### Tipos de Dados em Python\n",
    "As estruturas mais significativas do Python são listas, tuplas e dicionários. Os conjuntos estão integrados no Python desde a versão 2.5 (para versões anteriores, eles estão disponíveis na biblioteca de conjuntos). As listas são semelhantes às matrizes unidimensionais, mas você pode criar listas que contenham outras listas. Dicionários são matrizes que contêm pares de chaves e valores (tabela de hash) e tuplas são objetos monodimensionais imutáveis. Nos arrays Python podem ser de qualquer tipo, então você pode misturar inteiros, strings, e assim por diante, em suas listas / dicionários e tuplas. O índice do primeiro objeto em qualquer tipo de array é sempre zero. Índices negativos são permitidos e contados a partir do final do array, -1 é o último elemento. Variáveis ​​podem se referir a funções."
   ]
  },
  {
   "cell_type": "code",
   "execution_count": 12,
   "metadata": {},
   "outputs": [
    {
     "data": {
      "text/plain": [
       "[1, ['list1', 'list2'], ('one', 'tuple')]"
      ]
     },
     "execution_count": 12,
     "metadata": {},
     "output_type": "execute_result"
    }
   ],
   "source": [
    "example = [1, [\"list1\", \"list2\"], (\"one\", \"tuple\")]\n",
    "example"
   ]
  },
  {
   "cell_type": "code",
   "execution_count": 13,
   "metadata": {},
   "outputs": [
    {
     "data": {
      "text/plain": [
       "'Element 1'"
      ]
     },
     "execution_count": 13,
     "metadata": {},
     "output_type": "execute_result"
    }
   ],
   "source": [
    "mylist = [\"Element 1\", 2, 3.14]\n",
    "mylist [0]"
   ]
  },
  {
   "cell_type": "code",
   "execution_count": 14,
   "metadata": {},
   "outputs": [
    {
     "data": {
      "text/plain": [
       "3.14"
      ]
     },
     "execution_count": 14,
     "metadata": {},
     "output_type": "execute_result"
    }
   ],
   "source": [
    "mylist [-1] "
   ]
  },
  {
   "cell_type": "code",
   "execution_count": 15,
   "metadata": {},
   "outputs": [
    {
     "data": {
      "text/plain": [
       "3.14"
      ]
     },
     "execution_count": 15,
     "metadata": {},
     "output_type": "execute_result"
    }
   ],
   "source": [
    "mydict = {\"Key 1\": \"Val 1\", 2: 3, \"pi\": 3.14}\n",
    "mydict [\"pi\"]"
   ]
  },
  {
   "cell_type": "code",
   "execution_count": 16,
   "metadata": {},
   "outputs": [
    {
     "data": {
      "text/plain": [
       "1"
      ]
     },
     "execution_count": 16,
     "metadata": {},
     "output_type": "execute_result"
    }
   ],
   "source": [
    "mytuple = (1, 2, 3)\n",
    "a, b, c = mytuple\n",
    "a"
   ]
  },
  {
   "cell_type": "markdown",
   "metadata": {},
   "source": [
    "Você pode obter um intervalo de matriz usando dois pontos (:). Não especificar o índice inicial do intervalo implica no primeiro elemento; não indicar o índice final implica o último elemento. Índices negativos contam a partir do último elemento (-1 é o último elemento). Em seguida, execute o seguinte comando:"
   ]
  },
  {
   "cell_type": "code",
   "execution_count": 18,
   "metadata": {},
   "outputs": [
    {
     "data": {
      "text/plain": [
       "['first element', 2, 3.14]"
      ]
     },
     "execution_count": 18,
     "metadata": {},
     "output_type": "execute_result"
    }
   ],
   "source": [
    "mylist = [\"first element\", 2, 3.14]\n",
    "mylist[:]"
   ]
  },
  {
   "cell_type": "code",
   "execution_count": 19,
   "metadata": {},
   "outputs": [
    {
     "data": {
      "text/plain": [
       "['first element', 2]"
      ]
     },
     "execution_count": 19,
     "metadata": {},
     "output_type": "execute_result"
    }
   ],
   "source": [
    "mylist [0:2]"
   ]
  },
  {
   "cell_type": "code",
   "execution_count": 20,
   "metadata": {},
   "outputs": [
    {
     "data": {
      "text/plain": [
       "['first element', 2]"
      ]
     },
     "execution_count": 20,
     "metadata": {},
     "output_type": "execute_result"
    }
   ],
   "source": [
    "mylist [-3:-1]"
   ]
  },
  {
   "cell_type": "code",
   "execution_count": 21,
   "metadata": {},
   "outputs": [
    {
     "data": {
      "text/plain": [
       "[2, 3.14]"
      ]
     },
     "execution_count": 21,
     "metadata": {},
     "output_type": "execute_result"
    }
   ],
   "source": [
    "mylist [1:]"
   ]
  },
  {
   "cell_type": "markdown",
   "metadata": {},
   "source": [
    "### Strings\n",
    "Seqüências de caracteres Python são indicadas com aspas simples (') ou duplas (\") e são permitidas a utilização de uma notação em uma seqüência delimitada na outra (\" Ele disse' olá '. \"É válido). Cadeias de várias linhas são colocados entre aspas triplas (ou simples) (\"\" \"). Python suporta unicode; apenas use a sintaxe: \"Esta é uma string unicode\". Para inserir valores em uma string, use o operador% (módulo) e uma tupla. Cada% é substituído por um elemento da tupla, da esquerda para a direita, e é permitido usar um dicionário para as substituições."
   ]
  },
  {
   "cell_type": "code",
   "execution_count": 24,
   "metadata": {},
   "outputs": [
    {
     "data": {
      "text/plain": [
       "'Nome: Ramon Number: 3 String: ---'"
      ]
     },
     "execution_count": 24,
     "metadata": {},
     "output_type": "execute_result"
    }
   ],
   "source": [
    "\"Nome: %s Number: %s String: %s\" % (\"Ramon\", 3, 3 * \"-\")"
   ]
  },
  {
   "cell_type": "code",
   "execution_count": 26,
   "metadata": {},
   "outputs": [
    {
     "data": {
      "text/plain": [
       "'this is a string \\non multiple lines.'"
      ]
     },
     "execution_count": 26,
     "metadata": {},
     "output_type": "execute_result"
    }
   ],
   "source": [
    "strString = \"\"\"this is a string \n",
    "on multiple lines.\"\"\"\n",
    "\n",
    "strString"
   ]
  },
  {
   "cell_type": "code",
   "execution_count": 28,
   "metadata": {},
   "outputs": [
    {
     "data": {
      "text/plain": [
       "'This is un test.'"
      ]
     },
     "execution_count": 28,
     "metadata": {},
     "output_type": "execute_result"
    }
   ],
   "source": [
    "\"This %(verbo)s un %(name)s.\" % {\"name\": \"test\", \"verbo\": \"is\"}"
   ]
  },
  {
   "cell_type": "markdown",
   "metadata": {},
   "source": [
    "### Estruturas de Controle de Fluxo\n",
    "As instruções para o controle de fluxo são __if, for e while__. Existe o fluxo de controle de seleção; em seu lugar, usamos __if__. O fluxo de controle é usado para enumerar os membros de uma lista. Para obter uma lista de números, você usa o intervalo (número)."
   ]
  },
  {
   "cell_type": "code",
   "execution_count": 37,
   "metadata": {},
   "outputs": [
    {
     "name": "stdout",
     "output_type": "stream",
     "text": [
      "range(1, 10)\n"
     ]
    }
   ],
   "source": [
    "rangelist = range(1,10)\n",
    "print(rangelist)"
   ]
  },
  {
   "cell_type": "code",
   "execution_count": 38,
   "metadata": {},
   "outputs": [
    {
     "name": "stdout",
     "output_type": "stream",
     "text": [
      "1 continue\n",
      "2 continue\n",
      "3 break\n"
     ]
    }
   ],
   "source": [
    "for number in rangelist:\n",
    "    if number in (3, 4, 7, 9):\n",
    "        # \"Break\" ends the for instruction without the else clause\n",
    "        print(number, \"break\")\n",
    "        break\n",
    "    else:\n",
    "        print(number, \"continue\")\n",
    "        continue\n",
    "        print(\"Não chegou ate aqui\")"
   ]
  },
  {
   "cell_type": "code",
   "execution_count": 40,
   "metadata": {},
   "outputs": [
    {
     "name": "stdout",
     "output_type": "stream",
     "text": [
      "the second element (lists are 0-based) is 2\n"
     ]
    }
   ],
   "source": [
    "if rangelist[1] == 2:\n",
    "    print(\"the second element (lists are 0-based) is 2\")\n",
    "elif rangelist[1] == 3:\n",
    "    print(\"the second element is 3\")\n",
    "else:\n",
    "    print(\"I don't know\")"
   ]
  },
  {
   "cell_type": "markdown",
   "metadata": {},
   "source": [
    "### Funções\n",
    "Funções são declaradas com a palavra-chave __def__. Quaisquer argumentos opcionais devem ser declarados após aqueles que são obrigatórios e devem ter um valor atribuído. Ao chamar funções usando argumentos para nomear, você também deve passar o valor. Funções podem retornar uma tupla (a descompactação da tupla permite o retorno de múltiplos valores). As funções do Lambda estão em linha. Parâmetros são passados ​​por referência, mas os tipos imutáveis ​​(tuplas, inteiros, seqüências de caracteres e assim por diante) não podem ser alterados na função. Isso acontece porque é passado apenas pela posição do elemento na memória e a atribuição de outro objeto à variável resulta na perda da referência do objeto anteriormente."
   ]
  },
  {
   "cell_type": "code",
   "execution_count": 43,
   "metadata": {},
   "outputs": [
    {
     "data": {
      "text/plain": [
       "([0, 1, 2, 3, 'new element'], 4)"
      ]
     },
     "execution_count": 43,
     "metadata": {},
     "output_type": "execute_result"
    }
   ],
   "source": [
    "def passing_example(my_list,my_int):\n",
    "    my_list.append(\"new element\")\n",
    "    my_int = 4\n",
    "    return my_list, my_int\n",
    "\n",
    "my_list , my_int = passing_example([0,1,2,3], 2)\n",
    "my_list , my_int"
   ]
  },
  {
   "cell_type": "code",
   "execution_count": 44,
   "metadata": {},
   "outputs": [
    {
     "data": {
      "text/plain": [
       "4"
      ]
     },
     "execution_count": 44,
     "metadata": {},
     "output_type": "execute_result"
    }
   ],
   "source": [
    "_ , my_int = passing_example([0,1,2,3], 2)\n",
    "my_int"
   ]
  },
  {
   "cell_type": "code",
   "execution_count": 47,
   "metadata": {},
   "outputs": [
    {
     "data": {
      "text/plain": [
       "[0, 1, 2, 3, 'new element']"
      ]
     },
     "execution_count": 47,
     "metadata": {},
     "output_type": "execute_result"
    }
   ],
   "source": [
    "my_list, _ = passing_example([0,1,2,3], 2)\n",
    "my_list"
   ]
  },
  {
   "cell_type": "markdown",
   "metadata": {},
   "source": [
    "### Classes\n",
    "Python suporta herança múltipla de classes. As variáveis ​​e métodos privados são declarados por convecção (não é uma regra de linguagem) precedendo-os com dois sublinhados (__). Podemos atribuir atributos (propriedades) a instâncias arbitrárias de uma classe."
   ]
  },
  {
   "cell_type": "code",
   "execution_count": 54,
   "metadata": {},
   "outputs": [
    {
     "data": {
      "text/plain": [
       "3"
      ]
     },
     "execution_count": 54,
     "metadata": {},
     "output_type": "execute_result"
    }
   ],
   "source": [
    "class Myclass:\n",
    "    common = 10\n",
    "    def __init__(self):\n",
    "        self.myvariable= 3\n",
    "    def myfunc(self, arg1, arg2):\n",
    "        return self.myvariable + arg1 + arg2\n",
    "    \n",
    "instance= Myclass()\n",
    "instance.myvariable"
   ]
  },
  {
   "cell_type": "code",
   "execution_count": 55,
   "metadata": {},
   "outputs": [
    {
     "data": {
      "text/plain": [
       "7"
      ]
     },
     "execution_count": 55,
     "metadata": {},
     "output_type": "execute_result"
    }
   ],
   "source": [
    "instance.myfunc(1, 3)"
   ]
  },
  {
   "cell_type": "code",
   "execution_count": 57,
   "metadata": {},
   "outputs": [
    {
     "data": {
      "text/plain": [
       "10"
      ]
     },
     "execution_count": 57,
     "metadata": {},
     "output_type": "execute_result"
    }
   ],
   "source": [
    "instance2= Myclass()\n",
    "instance.common"
   ]
  },
  {
   "cell_type": "code",
   "execution_count": 58,
   "metadata": {},
   "outputs": [
    {
     "data": {
      "text/plain": [
       "10"
      ]
     },
     "execution_count": 58,
     "metadata": {},
     "output_type": "execute_result"
    }
   ],
   "source": [
    "instance2.common"
   ]
  },
  {
   "cell_type": "code",
   "execution_count": 59,
   "metadata": {},
   "outputs": [
    {
     "data": {
      "text/plain": [
       "True"
      ]
     },
     "execution_count": 59,
     "metadata": {},
     "output_type": "execute_result"
    }
   ],
   "source": [
    "instance.common == instance2.common"
   ]
  },
  {
   "cell_type": "code",
   "execution_count": 62,
   "metadata": {},
   "outputs": [
    {
     "data": {
      "text/plain": [
       "(30, 20)"
      ]
     },
     "execution_count": 62,
     "metadata": {},
     "output_type": "execute_result"
    }
   ],
   "source": [
    "Myclass.common = 30\n",
    "instance2.common = 20\n",
    "instance.common, instance2.common"
   ]
  },
  {
   "cell_type": "markdown",
   "metadata": {},
   "source": [
    "### Exceções\n",
    "Exceções no Python são tratadas com __try-except blocks__ [exception_name]:"
   ]
  },
  {
   "cell_type": "code",
   "execution_count": 66,
   "metadata": {},
   "outputs": [
    {
     "ename": "ZeroDivisionError",
     "evalue": "division by zero",
     "output_type": "error",
     "traceback": [
      "\u001b[0;31m---------------------------------------------------------------------------\u001b[0m",
      "\u001b[0;31mZeroDivisionError\u001b[0m                         Traceback (most recent call last)",
      "\u001b[0;32m<ipython-input-66-e574edb36883>\u001b[0m in \u001b[0;36m<module>\u001b[0;34m()\u001b[0m\n\u001b[0;32m----> 1\u001b[0;31m \u001b[0;36m10\u001b[0m\u001b[0;34m/\u001b[0m\u001b[0;36m0\u001b[0m\u001b[0;34m\u001b[0m\u001b[0m\n\u001b[0m",
      "\u001b[0;31mZeroDivisionError\u001b[0m: division by zero"
     ]
    }
   ],
   "source": [
    "10/0"
   ]
  },
  {
   "cell_type": "code",
   "execution_count": 65,
   "metadata": {},
   "outputs": [
    {
     "name": "stdout",
     "output_type": "stream",
     "text": [
      "Oops, error\n",
      "finish\n"
     ]
    }
   ],
   "source": [
    "try:\n",
    "    # Division by zero causes an exception\n",
    "    10 / 0\n",
    "except ZeroDivisionError:\n",
    "    print(\"Oops, error\")\n",
    "else:\n",
    "    # no exception, let's proceed\n",
    "    pass\n",
    "finally:\n",
    "    # This code is executed when the block\n",
    "    # Try..except is already executed and all exceptions\n",
    "    # Were handled, even if there is a new\n",
    "    # Exception directly in the block.\n",
    "    print(\"finish\")"
   ]
  },
  {
   "cell_type": "markdown",
   "metadata": {},
   "source": [
    "### Importando bibliotecas ou moduloes\n",
    "Bibliotecas externas são importadas com a __import__ _[nome da biblioteca]_. \n",
    "\n",
    "Você também pode usar a forma _[libraryname]_ __import__ _[funcname]_ para importar recursos individuais"
   ]
  },
  {
   "cell_type": "code",
   "execution_count": 72,
   "metadata": {},
   "outputs": [
    {
     "data": {
      "text/plain": [
       "100"
      ]
     },
     "execution_count": 72,
     "metadata": {},
     "output_type": "execute_result"
    }
   ],
   "source": [
    "import random\n",
    "randomint = random.randint(1, 100)\n",
    "randomint"
   ]
  },
  {
   "cell_type": "code",
   "execution_count": null,
   "metadata": {},
   "outputs": [],
   "source": []
  }
 ],
 "metadata": {
  "kernelspec": {
   "display_name": "Python 3",
   "language": "python",
   "name": "python3"
  },
  "language_info": {
   "codemirror_mode": {
    "name": "ipython",
    "version": 3
   },
   "file_extension": ".py",
   "mimetype": "text/x-python",
   "name": "python",
   "nbconvert_exporter": "python",
   "pygments_lexer": "ipython3",
   "version": "3.6.5"
  }
 },
 "nbformat": 4,
 "nbformat_minor": 2
}
