{
 "cells": [
  {
   "cell_type": "markdown",
   "metadata": {},
   "source": [
    "# Realizando Operações Matemáticas com o Tensorflow\n",
    "\n",
    "Tensores são as estruturas básicas de dados do TensorFlow. Como já dissemos, eles\n",
    "representam as arestas de conexão em um gráfico de fluxo de dados. Um tensor simplesmente identifica um\n",
    "matriz ou lista multidimensional"
   ]
  },
  {
   "cell_type": "markdown",
   "metadata": {},
   "source": [
    "![title](img/tensores.jpg)"
   ]
  },
  {
   "cell_type": "markdown",
   "metadata": {},
   "source": [
    "### Tensores Unidimensionais\n",
    "\n",
    "Para construir um tensor unidimensional, usamos o comando Numpy array (s), onde s é um\n",
    "Lista de Python:"
   ]
  },
  {
   "cell_type": "code",
   "execution_count": 1,
   "metadata": {},
   "outputs": [
    {
     "data": {
      "text/plain": [
       "array([ 1.3 ,  1.  ,  4.  , 23.99])"
      ]
     },
     "execution_count": 1,
     "metadata": {},
     "output_type": "execute_result"
    }
   ],
   "source": [
    "import numpy as np\n",
    "tensor_1d = np.array([1.3, 1, 4.0, 23.99])\n",
    "tensor_1d"
   ]
  },
  {
   "cell_type": "code",
   "execution_count": 2,
   "metadata": {},
   "outputs": [
    {
     "data": {
      "text/plain": [
       "1.3"
      ]
     },
     "execution_count": 2,
     "metadata": {},
     "output_type": "execute_result"
    }
   ],
   "source": [
    "tensor_1d[0]"
   ]
  },
  {
   "cell_type": "code",
   "execution_count": 3,
   "metadata": {},
   "outputs": [
    {
     "data": {
      "text/plain": [
       "1"
      ]
     },
     "execution_count": 3,
     "metadata": {},
     "output_type": "execute_result"
    }
   ],
   "source": [
    "tensor_1d.ndim"
   ]
  },
  {
   "cell_type": "code",
   "execution_count": 4,
   "metadata": {},
   "outputs": [
    {
     "data": {
      "text/plain": [
       "(4,)"
      ]
     },
     "execution_count": 4,
     "metadata": {},
     "output_type": "execute_result"
    }
   ],
   "source": [
    "tensor_1d.shape"
   ]
  },
  {
   "cell_type": "code",
   "execution_count": 5,
   "metadata": {},
   "outputs": [
    {
     "data": {
      "text/plain": [
       "dtype('float64')"
      ]
     },
     "execution_count": 5,
     "metadata": {},
     "output_type": "execute_result"
    }
   ],
   "source": [
    "tensor_1d.dtype"
   ]
  },
  {
   "cell_type": "markdown",
   "metadata": {},
   "source": [
    "Para construir um tensor unidimensional, usamos o comando __numpy.array__, onde s é um\n",
    "Lista de Python:"
   ]
  },
  {
   "cell_type": "code",
   "execution_count": 8,
   "metadata": {},
   "outputs": [
    {
     "name": "stdout",
     "output_type": "stream",
     "text": [
      "[ 1.3   1.    4.   23.99]\n",
      "1.3\n",
      "4.0\n"
     ]
    }
   ],
   "source": [
    "import tensorflow as tf\n",
    "tf_tensor = tf.convert_to_tensor(tensor_1d,dtype=tf.float64)\n",
    "\n",
    "with tf.Session() as sess:\n",
    "    print(sess.run(tf_tensor))\n",
    "    print(sess.run(tf_tensor[0]))\n",
    "    print(sess.run(tf_tensor[2]))"
   ]
  },
  {
   "cell_type": "markdown",
   "metadata": {},
   "source": [
    "Para criar um tensor ou matriz bidimensional, usamos novamente array (s), mas s será um\n",
    "seqüência de array"
   ]
  },
  {
   "cell_type": "code",
   "execution_count": 9,
   "metadata": {},
   "outputs": [
    {
     "data": {
      "text/plain": [
       "array([[ 1,  2,  3,  4],\n",
       "       [ 4,  5,  6,  7],\n",
       "       [ 8,  9, 10, 11],\n",
       "       [12, 13, 14, 15]])"
      ]
     },
     "execution_count": 9,
     "metadata": {},
     "output_type": "execute_result"
    }
   ],
   "source": [
    "tensor_2d=np.array([(1,2,3,4),(4,5,6,7),(8,9,10,11),(12,13,14,15)])\n",
    "tensor_2d"
   ]
  },
  {
   "cell_type": "code",
   "execution_count": 10,
   "metadata": {},
   "outputs": [
    {
     "data": {
      "text/plain": [
       "15"
      ]
     },
     "execution_count": 10,
     "metadata": {},
     "output_type": "execute_result"
    }
   ],
   "source": [
    "tensor_2d[3][3]"
   ]
  },
  {
   "cell_type": "markdown",
   "metadata": {},
   "source": [
    "### Manipulando Tensores\n",
    "\n",
    "Para criar um tensor ou matriz bidimensional, usamos novamente array (s), mas s será um\n",
    "seqüência de array"
   ]
  },
  {
   "cell_type": "code",
   "execution_count": 12,
   "metadata": {},
   "outputs": [],
   "source": [
    "matrix1 = np.array([(2,2,2),(2,2,2),(2,2,2)],dtype='int32')\n",
    "matrix2 = np.array([(1,1,1),(1,1,1),(1,1,1)],dtype='int32')"
   ]
  },
  {
   "cell_type": "code",
   "execution_count": 13,
   "metadata": {},
   "outputs": [],
   "source": [
    "matrix1 = tf.constant(matrix1)\n",
    "matrix2 = tf.constant(matrix2)"
   ]
  },
  {
   "cell_type": "code",
   "execution_count": 14,
   "metadata": {},
   "outputs": [],
   "source": [
    "matrix_product = tf.matmul(matrix1, matrix2)\n",
    "matrix_sum = tf.add(matrix1,matrix2)"
   ]
  },
  {
   "cell_type": "code",
   "execution_count": 16,
   "metadata": {},
   "outputs": [],
   "source": [
    "matrix_3 = np.array([(2,7,2),(1,4,2),(9,0,2)],dtype='float32')\n",
    "matrix_det = tf.matrix_determinant(matrix_3)"
   ]
  },
  {
   "cell_type": "code",
   "execution_count": 20,
   "metadata": {},
   "outputs": [
    {
     "data": {
      "text/plain": [
       "array([[6, 6, 6],\n",
       "       [6, 6, 6],\n",
       "       [6, 6, 6]], dtype=int32)"
      ]
     },
     "execution_count": 20,
     "metadata": {},
     "output_type": "execute_result"
    }
   ],
   "source": [
    "with tf.Session() as sess:\n",
    "    result1 = sess.run(matrix_product)\n",
    "    result2 = sess.run(matrix_sum)\n",
    "    result3 = sess.run(matrix_det)"
   ]
  },
  {
   "cell_type": "code",
   "execution_count": 21,
   "metadata": {},
   "outputs": [
    {
     "data": {
      "text/plain": [
       "array([[6, 6, 6],\n",
       "       [6, 6, 6],\n",
       "       [6, 6, 6]], dtype=int32)"
      ]
     },
     "execution_count": 21,
     "metadata": {},
     "output_type": "execute_result"
    }
   ],
   "source": [
    "result1"
   ]
  },
  {
   "cell_type": "code",
   "execution_count": 18,
   "metadata": {},
   "outputs": [
    {
     "data": {
      "text/plain": [
       "array([[3, 3, 3],\n",
       "       [3, 3, 3],\n",
       "       [3, 3, 3]], dtype=int32)"
      ]
     },
     "execution_count": 18,
     "metadata": {},
     "output_type": "execute_result"
    }
   ],
   "source": [
    "result2"
   ]
  },
  {
   "cell_type": "code",
   "execution_count": 22,
   "metadata": {},
   "outputs": [
    {
     "data": {
      "text/plain": [
       "55.999992"
      ]
     },
     "execution_count": 22,
     "metadata": {},
     "output_type": "execute_result"
    }
   ],
   "source": [
    "result3"
   ]
  },
  {
   "cell_type": "code",
   "execution_count": 23,
   "metadata": {},
   "outputs": [
    {
     "data": {
      "text/plain": [
       "(2, 2, 2)"
      ]
     },
     "execution_count": 23,
     "metadata": {},
     "output_type": "execute_result"
    }
   ],
   "source": [
    "tensor_3d = np.array([[[1,2],[3,4]],[[5,6],[7,8]]])\n",
    "tensor_3d.shape"
   ]
  },
  {
   "cell_type": "markdown",
   "metadata": {},
   "source": [
    "Vamos ver como podemos aplicar operações um pouco mais complexas a essas estruturas de dados.\n",
    "Considere o seguinte código"
   ]
  },
  {
   "cell_type": "markdown",
   "metadata": {},
   "source": [
    "![title](img/tensor_3_x_3.jpg)"
   ]
  },
  {
   "cell_type": "markdown",
   "metadata": {},
   "source": [
    "O TensorFlow é projetado para lidar com tensores de todos os tamanhos e operadores que podem ser usados ​​para manipulá-los. Neste exemplo, para ver manipulações de array, vamos trabalhar com uma imagem digital. Como você provavelmente sabe, uma imagem digital colorida que é uma matriz de tamanho MxNx3 (um tensor de três ordens), cujos componentes correspondem aos componentes de vermelho, verde e azul na imagem (espaço RGB), significa que cada recurso na retangular A caixa para a imagem RGB será especificada por três coordenadas, i, j e k."
   ]
  },
  {
   "cell_type": "markdown",
   "metadata": {},
   "source": [
    "![title](img/imagem_rgb.jpg)"
   ]
  },
  {
   "cell_type": "markdown",
   "metadata": {},
   "source": [
    "### Manipulando Tensores com o Tensorflow"
   ]
  },
  {
   "cell_type": "code",
   "execution_count": 27,
   "metadata": {},
   "outputs": [],
   "source": [
    "import matplotlib.image as mp_image \n",
    "filename = \"img/packet.jpg\" \n",
    "input_image = mp_image.imread(filename)"
   ]
  },
  {
   "cell_type": "code",
   "execution_count": 30,
   "metadata": {},
   "outputs": [
    {
     "data": {
      "image/png": "[encoded data removed]",
      "text/plain": [
       "<Figure size 432x288 with 1 Axes>"
      ]
     },
     "metadata": {},
     "output_type": "display_data"
    }
   ],
   "source": [
    "import matplotlib.pyplot as plt\n",
    "%matplotlib inline\n",
    "plt.imshow(input_image) \n",
    "plt.show()"
   ]
  },
  {
   "cell_type": "code",
   "execution_count": 31,
   "metadata": {},
   "outputs": [
    {
     "name": "stdout",
     "output_type": "stream",
     "text": [
      "(16, 814, 3)\n"
     ]
    },
    {
     "data": {
      "image/png": "[encoded data removed]",
      "text/plain": [
       "<Figure size 432x288 with 1 Axes>"
      ]
     },
     "metadata": {},
     "output_type": "display_data"
    }
   ],
   "source": [
    "my_image = tf.placeholder(\"uint8\",[None,None,3])\n",
    "slice = tf.slice(my_image,[10,0,0],[16,-1,-1])\n",
    "with tf.Session() as session: \n",
    "    result = session.run(slice,feed_dict={my_image: input_image}) \n",
    "    print(result.shape) \n",
    " \n",
    "plt.imshow(result) \n",
    "plt.show()"
   ]
  },
  {
   "cell_type": "markdown",
   "metadata": {},
   "source": [
    "### Números complexos e fractais\n",
    "Primeiro de tudo, vemos como o Python lida com números complexos. É uma questão simples. Por exemplo, definindo x = 5 + 4j em Python, devemos escrever o seguinte"
   ]
  },
  {
   "cell_type": "code",
   "execution_count": 1,
   "metadata": {},
   "outputs": [
    {
     "data": {
      "text/plain": [
       "(5+4j)"
      ]
     },
     "execution_count": 1,
     "metadata": {},
     "output_type": "execute_result"
    }
   ],
   "source": [
    "x = 5.+4j\n",
    "x"
   ]
  },
  {
   "cell_type": "markdown",
   "metadata": {},
   "source": [
    "Python usa j para significar √-1 em vez de i em matemática.\n",
    "Se você colocar um número antes do j, o Python irá considerá-lo como um número imaginário, caso contrário, é uma variável. Isso significa que se você quiser escrever o número imaginário i, você deve escrever 1j ao invés de j."
   ]
  },
  {
   "cell_type": "code",
   "execution_count": 2,
   "metadata": {},
   "outputs": [
    {
     "data": {
      "text/plain": [
       "5.0"
      ]
     },
     "execution_count": 2,
     "metadata": {},
     "output_type": "execute_result"
    }
   ],
   "source": [
    "x.real "
   ]
  },
  {
   "cell_type": "code",
   "execution_count": 3,
   "metadata": {},
   "outputs": [
    {
     "data": {
      "text/plain": [
       "4.0"
      ]
     },
     "execution_count": 3,
     "metadata": {},
     "output_type": "execute_result"
    }
   ],
   "source": [
    "x.imag"
   ]
  },
  {
   "cell_type": "markdown",
   "metadata": {},
   "source": [
    "### Fractais em Tensorflow\n",
    "\n",
    "Como exibir os fractais com o TensorFlow. O conjunto de Mandelbrot é um dos fractais mais famosos. Um fractal é um objeto geométrico que se repete em sua estrutura em diferentes escalas. Fractais são muito comuns na natureza, e um exemplo é a costa da Grã-Bretanha.\n",
    "\n",
    "O conjunto Mandelbrot é definido para os números complexos c para os quais a seguinte sucessão é verdadeira e limitada:\n",
    "\n",
    "__Z(n+1) = Z(n)2 + c, onde  Z(0) = 0__"
   ]
  },
  {
   "cell_type": "markdown",
   "metadata": {},
   "source": [
    "Z tem valor inicial igual a 0, Z (0) = 0.\n",
    "\n",
    "Escolha o número complexo c como o ponto atual. No plano cartesiano, o eixo das abscissas (linha horizontal) representa a parte real, enquanto o eixo das ordenadas (linha vertical) representa a parte imaginária de c.\n",
    "\n",
    "Iteração: Z (n + 1) = Z (n) 2 + c\n",
    "\n",
    "Pare quando Z (n) 2 for maior que o raio máximo;"
   ]
  },
  {
   "cell_type": "code",
   "execution_count": 6,
   "metadata": {},
   "outputs": [],
   "source": [
    "import tensorflow as tf \n",
    "import numpy as np \n",
    "import matplotlib.pyplot as plt"
   ]
  },
  {
   "cell_type": "code",
   "execution_count": 7,
   "metadata": {},
   "outputs": [],
   "source": [
    "Y, X = np.mgrid[-1.3:1.3:0.005, -2:1:0.005] \n",
    "Z = X+1j*Y \n",
    "c = tf.constant(Z.astype(np.complex64)) "
   ]
  },
  {
   "cell_type": "code",
   "execution_count": 8,
   "metadata": {},
   "outputs": [],
   "source": [
    "zs = tf.Variable(c) \n",
    "ns = tf.Variable(tf.zeros_like(c, tf.float32)) "
   ]
  },
  {
   "cell_type": "markdown",
   "metadata": {},
   "source": [
    "Em vez de instanciar uma sessão normal, instanciamos uma InteractiveSession ():\n",
    "\n",
    "Requer, como veremos, os métodos __Tensor.eval()__ e __Operation.run()__. Então nós inicializamos todas as variáveis envolvidas através do método run ():"
   ]
  },
  {
   "cell_type": "code",
   "execution_count": 12,
   "metadata": {},
   "outputs": [
    {
     "name": "stderr",
     "output_type": "stream",
     "text": [
      "/Users/ramonfsilva/anaconda3/envs/py36/lib/python3.6/site-packages/tensorflow/python/client/session.py:1714: UserWarning: An interactive session is already active. This can cause out-of-memory errors in some cases. You must explicitly call `InteractiveSession.close()` to release resources held by the other session(s).\n",
      "  warnings.warn('An interactive session is already active. This can '\n"
     ]
    }
   ],
   "source": [
    "sess = tf.InteractiveSession()\n",
    "tf.initialize_all_variables().run()\n",
    "zs_ = zs*zs + c\n",
    "not_diverged = tf.abs(zs_) < 4\n",
    "step = tf.group(zs.assign(zs_), ns.assign_add(tf.cast(not_diverged, tf.float32)))\n",
    "for i in range(200): step.run()"
   ]
  },
  {
   "cell_type": "code",
   "execution_count": 13,
   "metadata": {},
   "outputs": [
    {
     "data": {
      "image/png": "[encoded data removed]",
      "text/plain": [
       "<Figure size 432x288 with 1 Axes>"
      ]
     },
     "metadata": {},
     "output_type": "display_data"
    }
   ],
   "source": [
    "plt.imshow(ns.eval()) \n",
    "plt.show() "
   ]
  },
  {
   "cell_type": "markdown",
   "metadata": {},
   "source": [
    "# Calculando Gradientes\n",
    "TensorFlow tem funções para resolver outras tarefas mais complexas. Por exemplo, usaremos um operador matemático que calcula a derivada de y em relação ao parâmetro expression x. Para este propósito, usamos a função tf.gradients ().\n",
    "\n",
    "Vamos considerar a função matemática y = 2x². Queremos calcular o gradiente di y em relação a x = 1. A seguir está o código para calcular esse gradiente.\n",
    "\n",
    "\n",
    "A variável __x__ é a variável independente da função:"
   ]
  },
  {
   "cell_type": "code",
   "execution_count": 19,
   "metadata": {},
   "outputs": [],
   "source": [
    "x = tf.placeholder(tf.float32)\n",
    "\n",
    "y =  2*x*x\n",
    "\n",
    "var_grad = tf.gradients(y, x)"
   ]
  },
  {
   "cell_type": "code",
   "execution_count": 20,
   "metadata": {},
   "outputs": [],
   "source": [
    "with tf.Session() as session:\n",
    "    var_grad_val = session.run(var_grad,feed_dict={x:1}) "
   ]
  },
  {
   "cell_type": "code",
   "execution_count": 22,
   "metadata": {},
   "outputs": [
    {
     "data": {
      "text/plain": [
       "[4.0]"
      ]
     },
     "execution_count": 22,
     "metadata": {},
     "output_type": "execute_result"
    }
   ],
   "source": [
    "var_grad_val"
   ]
  },
  {
   "cell_type": "markdown",
   "metadata": {},
   "source": [
    "# Números aleatórios\n",
    "A geração de números aleatórios é essencial no aprendizado de máquina e nos algoritmos de treinamento. Quando números aleatórios são gerados por um computador, eles são gerados por um gerador de números pseudo-aleatórios (PRNG). O termo pseudo vem do fato de que o computador é uma mancha logicamente programada executando instruções que só podem simular aleatoriedade. Apesar dessa limitação lógica, os computadores são muito eficientes na geração de números aleatórios. TensorFlow fornece operadores para criar tensores aleatórios com diferentes distribuições.\n",
    "\n",
    "### Distribuição Uniforme\n",
    "Geralmente, quando precisamos trabalhar com números aleatórios, tentamos obter valores repetidos com a mesma frequência, uniformemente distribuídos. O operador TensorFlow fornece valores entre minval e maxval, todos com a mesma probabilidade. Vamos ver um código de exemplo simples:"
   ]
  },
  {
   "cell_type": "code",
   "execution_count": 26,
   "metadata": {},
   "outputs": [
    {
     "name": "stdout",
     "output_type": "stream",
     "text": [
      "[0.93382776 0.52402973 0.7709402  0.26860535 0.3335235  0.06091821\n",
      " 0.98703945 0.4330597  0.06485069 0.54607415 0.7635125  0.18120944\n",
      " 0.915414   0.35799277 0.67332757 0.2840159  0.85911226 0.39116144\n",
      " 0.8003427  0.9268006  0.1622454  0.4360336  0.6837237  0.4724245\n",
      " 0.49162734 0.10308468 0.8812784  0.16529    0.48167717 0.83180356\n",
      " 0.5852407  0.6138921  0.9113649  0.28669417 0.32426882 0.74954927\n",
      " 0.70948243 0.18500996 0.77442825 0.09283638 0.3883648  0.05530894\n",
      " 0.9580132  0.2267648  0.1192944  0.30492425 0.13955748 0.69972456\n",
      " 0.66291964 0.7163255  0.4702257  0.70494425 0.94084334 0.7500645\n",
      " 0.80144966 0.10628963 0.41181958 0.05972874 0.43039596 0.4433123\n",
      " 0.52102625 0.24333847 0.8771125  0.6784617  0.473392   0.39717364\n",
      " 0.8474407  0.771109   0.12523961 0.78071034 0.98047185 0.8935541\n",
      " 0.99257815 0.08699679 0.04860187 0.33747733 0.5057819  0.06834579\n",
      " 0.76176906 0.98756075 0.88647044 0.27456236 0.55879474 0.87315035\n",
      " 0.5777178  0.712203   0.3594935  0.45394766 0.03008318 0.63136065\n",
      " 0.53634584 0.6629945  0.11900604 0.56695795 0.87762916 0.94495034\n",
      " 0.15082479 0.9650184  0.33134806 0.7276709 ]\n"
     ]
    },
    {
     "name": "stderr",
     "output_type": "stream",
     "text": [
      "/Users/ramonfsilva/anaconda3/envs/py36/lib/python3.6/site-packages/matplotlib/axes/_axes.py:6462: UserWarning: The 'normed' kwarg is deprecated, and has been replaced by the 'density' kwarg.\n",
      "  warnings.warn(\"The 'normed' kwarg is deprecated, and has been \"\n"
     ]
    },
    {
     "data": {
      "image/png": "[encoded data removed]",
      "text/plain": [
       "<Figure size 432x288 with 1 Axes>"
      ]
     },
     "metadata": {},
     "output_type": "display_data"
    }
   ],
   "source": [
    "uniform = tf.random_uniform([100],minval=0,maxval=1,dtype=tf.float32) \n",
    "sess = tf.Session()\n",
    "\n",
    "with tf.Session() as session: \n",
    "    print(uniform.eval())\n",
    "    plt.hist(uniform.eval(),normed=True) \n",
    "    plt.show()"
   ]
  },
  {
   "cell_type": "markdown",
   "metadata": {},
   "source": [
    "### Distribuição Normal\n",
    "Em alguns casos específicos, você pode precisar gerar números aleatórios que diferem em algumas unidades. Neste caso, usamos a distribuição normal de números aleatórios, também chamada de distribuição gaussiana, que aumenta a probabilidade de extração dos próximos números a 0. Cada inteiro representa o desvio padrão. Como mostrado a partir dos futuros problemas para as margens do intervalo tem uma chance muito baixa de ser extraído. A seguir, a implementação com o TensorFlow:"
   ]
  },
  {
   "cell_type": "code",
   "execution_count": 28,
   "metadata": {},
   "outputs": [
    {
     "name": "stderr",
     "output_type": "stream",
     "text": [
      "/Users/ramonfsilva/anaconda3/envs/py36/lib/python3.6/site-packages/matplotlib/axes/_axes.py:6462: UserWarning: The 'normed' kwarg is deprecated, and has been replaced by the 'density' kwarg.\n",
      "  warnings.warn(\"The 'normed' kwarg is deprecated, and has been \"\n"
     ]
    },
    {
     "data": {
      "image/png": "[encoded data removed]",
      "text/plain": [
       "<Figure size 432x288 with 1 Axes>"
      ]
     },
     "metadata": {},
     "output_type": "display_data"
    }
   ],
   "source": [
    "norm = tf.random_normal([100], mean=0, stddev=2) \n",
    "with tf.Session() as session: \n",
    "    plt.hist(norm.eval(),normed=True) \n",
    "    plt.show()"
   ]
  },
  {
   "cell_type": "markdown",
   "metadata": {},
   "source": [
    "### Gerando números aleatórios com sementes\n",
    "Lembramos que nossa sequência é pseudo-aleatória, porque os valores são calculados usando um algoritmo determinístico e a probabilidade não desempenha um papel real. A semente é apenas um ponto de partida para a sequência e, se você começar da mesma semente, terminará com a mesma sequência. Isso é muito útil, por exemplo, para depurar seu código, quando você está procurando por um erro em um programa e deve ser capaz de reproduzir o problema, porque cada execução seria diferente.\n",
    "\n",
    "Considere o seguinte exemplo em que temos duas distribuições uniformes:"
   ]
  },
  {
   "cell_type": "code",
   "execution_count": 31,
   "metadata": {},
   "outputs": [
    {
     "name": "stdout",
     "output_type": "stream",
     "text": [
      "First Run\n",
      "uniform with (seed = 1) = [0.2390374]\n",
      "uniform with (seed = 1) = [0.22267115]\n",
      "uniform without seed = [0.7718884]\n",
      "uniform without seed = [0.95966625]\n",
      "Second Run\n",
      "uniform with (seed = 1) = [0.2390374]\n",
      "uniform with (seed = 1) = [0.22267115]\n",
      "uniform without seed = [0.5915518]\n",
      "uniform without seed = [0.59265137]\n"
     ]
    }
   ],
   "source": [
    "uniform_with_seed = tf.random_uniform([1], seed=1)\n",
    "uniform_without_seed = tf.random_uniform([1])\n",
    "\n",
    "print(\"First Run\")\n",
    "\n",
    "with tf.Session() as first_session:\n",
    "    print(\"uniform with (seed = 1) = {}\".format(first_session.run(uniform_with_seed)))\n",
    "    print(\"uniform with (seed = 1) = {}\".format(first_session.run(uniform_with_seed)))\n",
    "    print(\"uniform without seed = {}\".format(first_session.run(uniform_without_seed)))\n",
    "    print(\"uniform without seed = {}\".format(first_session.run(uniform_without_seed)))\n",
    "\n",
    "print(\"Second Run\")\n",
    "with tf.Session() as second_session:\n",
    "    print(\"uniform with (seed = 1) = {}\".format(second_session.run(uniform_with_seed)))\n",
    "    print(\"uniform with (seed = 1) = {}\".format(second_session.run(uniform_with_seed)))\n",
    "    print(\"uniform without seed = {}\".format(second_session.run(uniform_without_seed)))\n",
    "    print(\"uniform without seed = {}\".format(second_session.run(uniform_without_seed)))"
   ]
  },
  {
   "cell_type": "markdown",
   "metadata": {},
   "source": [
    "### Método de Montecarlo\n",
    "Terminamos a seção sobre números aleatórios com uma simples nota sobre o método de Montecarlo. É um método probabilístico numérico amplamente utilizado na aplicação de computação científica de alto desempenho. Em nosso exemplo, calcularemos o valor de π:"
   ]
  },
  {
   "cell_type": "code",
   "execution_count": 32,
   "metadata": {},
   "outputs": [],
   "source": [
    "trials = 100 \n",
    "hits = 0\n"
   ]
  },
  {
   "cell_type": "code",
   "execution_count": 33,
   "metadata": {},
   "outputs": [],
   "source": [
    "x = tf.random_uniform([1],minval=-1,maxval=1,dtype=tf.float32) \n",
    "y = tf.random_uniform([1],minval=-1,maxval=1,dtype=tf.float32) \n",
    "pi = []"
   ]
  },
  {
   "cell_type": "code",
   "execution_count": 34,
   "metadata": {},
   "outputs": [],
   "source": [
    "sess = tf.Session()"
   ]
  },
  {
   "cell_type": "code",
   "execution_count": 35,
   "metadata": {},
   "outputs": [
    {
     "data": {
      "image/png": "[encoded data removed]",
      "text/plain": [
       "<Figure size 432x288 with 1 Axes>"
      ]
     },
     "metadata": {},
     "output_type": "display_data"
    }
   ],
   "source": [
    "with sess.as_default(): \n",
    "    for i in range(1,trials): \n",
    "        for j in range(1,trials): \n",
    "            if x.eval()**2 + y.eval()**2 < 1 : \n",
    "                hits = hits + 1 \n",
    "                pi.append((4 * float(hits) / i)/trials)   \n",
    " \n",
    "plt.plot(pi) \n",
    "plt.show()"
   ]
  },
  {
   "cell_type": "code",
   "execution_count": null,
   "metadata": {},
   "outputs": [],
   "source": []
  }
 ],
 "metadata": {
  "kernelspec": {
   "display_name": "Python 3",
   "language": "python",
   "name": "python3"
  },
  "language_info": {
   "codemirror_mode": {
    "name": "ipython",
    "version": 3
   },
   "file_extension": ".py",
   "mimetype": "text/x-python",
   "name": "python",
   "nbconvert_exporter": "python",
   "pygments_lexer": "ipython3",
   "version": "3.6.5"
  }
 },
 "nbformat": 4,
 "nbformat_minor": 2
}
