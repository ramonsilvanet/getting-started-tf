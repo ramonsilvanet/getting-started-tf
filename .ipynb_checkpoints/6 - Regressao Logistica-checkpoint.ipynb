{
 "cells": [
  {
   "cell_type": "markdown",
   "metadata": {},
   "source": [
    "# Regressão logística\n",
    "Este algoritmo não tem nada a ver com a regressão linear canônica que vimos acima, mas é um algoritmo que nos permite resolver problemas de classificação supervisionada. De fato, para estimar a variável dependente, agora fazemos uso da chamada função logística ou sigmóide. É precisamente por causa desta característica que chamamos este algoritmo de regressão logística. A função sigmoide tem o seguinte padrão:\n",
    "\n",
    "![title](img/sigmoid.jpg)\n",
    "\n",
    "Como podemos ver, a variável dependente assume valores estritamente entre __0 e 1__, que é precisamente o que nos serve. No caso da regressão logística, queremos que nossa função nos diga qual é a probabilidade de pertencer a um elemento particular de nossa classe. Lembramos novamente que o aprendizado supervisionado pela rede neural é configurado como um processo iterativo de otimização dos pesos; estes são modificados com base no desempenho da rede do conjunto de treinamento. De fato, o objetivo é minimizar a função de perda, que indica o grau em que o comportamento da rede se desvia do desejado. O desempenho da rede é então verificado em um conjunto de testes, consistindo em imagens diferentes das treinadas."
   ]
  },
  {
   "cell_type": "markdown",
   "metadata": {},
   "source": [
    "# O dataset MNIST\n",
    "\n",
    "O conjunto de dados MNIST (disponível em http://yann.lecun.com/exdb/mnist/) é amplamente utilizado para treinamento e testes no campo de aprendizado de máquina, e vamos usá-lo nos exemplos deste livro. Ele contém imagens em preto e branco de dígitos manuscritos de 0 a 9.\n",
    "\n",
    "O conjunto de dados é dividido em dois grupos: 60.000 para treinar o modelo e 10.000 adicionais para testá-lo. As imagens originais, em preto e branco, foram normalizadas para caber em uma caixa de tamanho 28 × 28 pixels e centradas calculando o centro de massa dos pixels. A figura a seguir representa como os dígitos podem ser representados no conjunto de dados MNIST\n",
    "\n",
    "![title](img/MNIST.png)\n",
    "\n",
    "## Download e preparação dos dados\n",
    "O código a seguir importa os arquivos de dados MNIST que vamos classificar. Estou usando um script do Google que pode ser baixado.\n",
    "\n",
    "Agora vamos mostrar como carregar e exibir os dados"
   ]
  },
  {
   "cell_type": "code",
   "execution_count": 1,
   "metadata": {},
   "outputs": [
    {
     "name": "stderr",
     "output_type": "stream",
     "text": [
      "/Users/ramonfsilva/anaconda3/envs/py36/lib/python3.6/site-packages/h5py/__init__.py:36: FutureWarning: Conversion of the second argument of issubdtype from `float` to `np.floating` is deprecated. In future, it will be treated as `np.float64 == np.dtype(float).type`.\n",
      "  from ._conv import register_converters as _register_converters\n"
     ]
    }
   ],
   "source": [
    "import input_data\n",
    "import tensorflow as tf\n",
    "import matplotlib.pyplot as plt"
   ]
  },
  {
   "cell_type": "code",
   "execution_count": 4,
   "metadata": {},
   "outputs": [
    {
     "name": "stdout",
     "output_type": "stream",
     "text": [
      "Extracting MNIST_data/train-images-idx3-ubyte.gz\n",
      "Extracting MNIST_data/train-labels-idx1-ubyte.gz\n",
      "Extracting MNIST_data/t10k-images-idx3-ubyte.gz\n",
      "Extracting MNIST_data/t10k-labels-idx1-ubyte.gz\n"
     ]
    }
   ],
   "source": [
    "mnist_images = input_data.read_data_sets(\"MNIST_data/\", one_hot=True)"
   ]
  },
  {
   "cell_type": "code",
   "execution_count": 5,
   "metadata": {},
   "outputs": [],
   "source": [
    "training_epochs = 25"
   ]
  },
  {
   "cell_type": "code",
   "execution_count": 6,
   "metadata": {},
   "outputs": [],
   "source": [
    "learning_rate = 0.01\n",
    "batch_size = 100\n",
    "display_step = 1"
   ]
  },
  {
   "cell_type": "markdown",
   "metadata": {},
   "source": [
    "### Construindo o modelo\n",
    "\n",
    "Define x como o tensor de entrada; representa a imagem de dados MNIST do tamanho 28 x 28 = 784 pixels:"
   ]
  },
  {
   "cell_type": "code",
   "execution_count": 10,
   "metadata": {},
   "outputs": [],
   "source": [
    "x = tf.placeholder(\"float\", [None, 784]) \n",
    "y = tf.placeholder(\"float\", [None, 10]) \n",
    "W = tf.Variable(tf.zeros([784, 10]))"
   ]
  },
  {
   "cell_type": "markdown",
   "metadata": {},
   "source": [
    "Calcular a evidência de que determinada imagem pertence a uma determinada classe"
   ]
  },
  {
   "cell_type": "code",
   "execution_count": 14,
   "metadata": {},
   "outputs": [],
   "source": [
    "b = tf.Variable(tf.zeros([10]))"
   ]
  },
  {
   "cell_type": "markdown",
   "metadata": {},
   "source": [
    "O segundo passo é finalmente usar a função softmax para obter o vetor de saída das probabilidades, a saber: ativação:"
   ]
  },
  {
   "cell_type": "code",
   "execution_count": 16,
   "metadata": {},
   "outputs": [],
   "source": [
    "activation = tf.nn.softmax(tf.matmul(x, W) + b)"
   ]
  },
  {
   "cell_type": "markdown",
   "metadata": {},
   "source": [
    "Para treinar nosso modelo e saber quando temos um bom, devemos definir como definir a precisão de nosso modelo. Nosso objetivo é tentar obter valores dos parâmetros W e b que minimizem o valor da métrica que indica quão ruim é o modelo.\n",
    "\n",
    "Métricas diferentes calcularam o grau de erro entre a saída desejada e as saídas de dados de treinamento. Uma medida comum de erro é o erro quadrático médio ou a distância euclidiana quadrada. No entanto, existem alguns resultados de pesquisas que sugerem a utilização de outras métricas para uma rede neural como esta.\n",
    "\n",
    "Neste exemplo, usamos a chamada função de erro de entropia cruzada. É definido como"
   ]
  },
  {
   "cell_type": "code",
   "execution_count": 19,
   "metadata": {},
   "outputs": [],
   "source": [
    "cross_entropy = y * tf.log(activation)"
   ]
  },
  {
   "cell_type": "markdown",
   "metadata": {},
   "source": [
    "#### Função de Custo"
   ]
  },
  {
   "cell_type": "code",
   "execution_count": 20,
   "metadata": {},
   "outputs": [],
   "source": [
    "cost = tf.reduce_mean(-tf.reduce_sum(cross_entropy, reduction_indices=1))"
   ]
  },
  {
   "cell_type": "code",
   "execution_count": 21,
   "metadata": {},
   "outputs": [],
   "source": [
    "optimizer = tf.train.GradientDescentOptimizer(learning_rate).minimize(cost)"
   ]
  },
  {
   "cell_type": "markdown",
   "metadata": {},
   "source": [
    "### Lançando a sessão"
   ]
  },
  {
   "cell_type": "code",
   "execution_count": 35,
   "metadata": {},
   "outputs": [
    {
     "name": "stdout",
     "output_type": "stream",
     "text": [
      "Epoca: 0001 custo= 1.176925977\n",
      "Epoca: 0002 custo= 0.662721971\n",
      "Epoca: 0003 custo= 0.550721077\n",
      "Epoca: 0004 custo= 0.496747916\n",
      "Epoca: 0005 custo= 0.463765180\n",
      "Epoca: 0006 custo= 0.440940143\n",
      "Epoca: 0007 custo= 0.423953750\n",
      "Epoca: 0008 custo= 0.410722765\n",
      "Epoca: 0009 custo= 0.399891707\n",
      "Epoca: 0010 custo= 0.390912305\n",
      "Epoca: 0011 custo= 0.383358220\n",
      "Epoca: 0012 custo= 0.376786601\n",
      "Epoca: 0013 custo= 0.371054990\n",
      "Epoca: 0014 custo= 0.365958508\n",
      "Epoca: 0015 custo= 0.361372264\n",
      "Epoca: 0016 custo= 0.357224873\n",
      "Epoca: 0017 custo= 0.353601111\n",
      "Epoca: 0018 custo= 0.350170474\n",
      "Epoca: 0019 custo= 0.347018057\n",
      "Epoca: 0020 custo= 0.344112057\n",
      "Epoca: 0021 custo= 0.341481196\n",
      "Epoca: 0022 custo= 0.338956833\n",
      "Epoca: 0023 custo= 0.336641592\n",
      "Epoca: 0024 custo= 0.334516564\n",
      "Epoca: 0025 custo= 0.332465121\n",
      "Fase de treinamento finalizada\n"
     ]
    },
    {
     "data": {
      "image/png": "[encoded data removed]",
      "text/plain": [
       "<Figure size 864x576 with 1 Axes>"
      ]
     },
     "metadata": {},
     "output_type": "display_data"
    },
    {
     "name": "stdout",
     "output_type": "stream",
     "text": [
      "Precisão do Modelo: 0.9135\n"
     ]
    }
   ],
   "source": [
    "avg_set = []\n",
    "epoch_set=[]\n",
    "\n",
    "init = tf.global_variables_initializer()\n",
    "\n",
    "with tf.Session() as sess:\n",
    "    sess.run(init)\n",
    "    # Ciclo de treinamento\n",
    "    for epoch in range(training_epochs):\n",
    "        avg_cost = 0.\n",
    "        total_batch = int(mnist_images.train.num_examples/batch_size)\n",
    "        # Loop over all batches\n",
    "        for i in range(total_batch):\n",
    "            batch_xs, batch_ys = \\\n",
    "                      mnist_images.train.next_batch(batch_size)\n",
    "            # Fit training using batch data\n",
    "            sess.run(optimizer, \\\n",
    "                     feed_dict={x: batch_xs, y: batch_ys})\n",
    "            # Compute average loss\n",
    "            avg_cost += sess.run(cost,feed_dict={x: batch_xs,y: batch_ys})/total_batch\n",
    "        # Display logs per epoch step\n",
    "        if epoch % display_step == 0:\n",
    "            print(\"Epoca:\", '%04d' % (epoch+1),\"custo=\", \"{:.9f}\".format(avg_cost))\n",
    "        avg_set.append(avg_cost)\n",
    "        epoch_set.append(epoch+1)\n",
    "    print(\"Fase de treinamento finalizada\")\n",
    "    plt.figure(figsize=(12,8))\n",
    "    plt.plot(epoch_set,avg_set, 'o',label='Fase de Treinamento da Regressão Logística')    \n",
    "    plt.ylabel('custo')\n",
    "    plt.xlabel('epoca')\n",
    "    plt.legend()\n",
    "    plt.show()\n",
    "    # Test model\n",
    "    correct_prediction = tf.equal(tf.argmax(activation, 1),tf.argmax(y, 1))\n",
    "    # Calculate accuracy\n",
    "    accuracy = tf.reduce_mean(tf.cast(correct_prediction, \"float\"))\n",
    "    print(\"Precisão do Modelo:\", accuracy.eval({x: mnist_images.test.images,y: mnist_images.test.labels}))"
   ]
  }
 ],
 "metadata": {
  "kernelspec": {
   "display_name": "Python 3",
   "language": "python",
   "name": "python3"
  },
  "language_info": {
   "codemirror_mode": {
    "name": "ipython",
    "version": 3
   },
   "file_extension": ".py",
   "mimetype": "text/x-python",
   "name": "python",
   "nbconvert_exporter": "python",
   "pygments_lexer": "ipython3",
   "version": "3.6.5"
  }
 },
 "nbformat": 4,
 "nbformat_minor": 2
}
