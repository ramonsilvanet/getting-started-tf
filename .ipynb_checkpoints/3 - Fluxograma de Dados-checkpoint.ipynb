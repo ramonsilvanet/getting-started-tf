{
 "cells": [
  {
   "cell_type": "markdown",
   "metadata": {},
   "source": [
    "# Fluxograma de Dados do Tensorflow\n",
    "\n",
    "Adotando o Fluxo de Dados como modelo de execução, você divide o design do fluxo de dados (construção de grafos e fluxo de dados) de sua execução (CPU, placas GPU ou uma combinação), usando uma única interface de programação que oculta todas as complexidades. Também define como deve ser o modelo de programação no TensorFlow.\n",
    "\n",
    "Vamos considerar o simples problema de multiplicar dois inteiros, a saber, a e b.\n",
    "\n",
    "A seguir estão as etapas necessárias para este problema simples:\n",
    "\n",
    "\n",
    "![title](img/fluxograma.png)"
   ]
  },
  {
   "cell_type": "markdown",
   "metadata": {},
   "source": [
    "Definimos as variáveis a e b envolvidas no cálculo. Estes são definidos através de uma estrutura mais básica, chamada de placeholder:"
   ]
  },
  {
   "cell_type": "code",
   "execution_count": 10,
   "metadata": {},
   "outputs": [],
   "source": [
    "import tensorflow as tf\n",
    "a = tf.placeholder(\"int32\")\n",
    "b = tf.placeholder(\"int32\")"
   ]
  },
  {
   "cell_type": "markdown",
   "metadata": {},
   "source": [
    "Um espaço reservado nos permite criar nossas operações e construir nosso gráfico de computação, sem precisar dos dados.\n",
    "\n",
    "Então usamos essas variáveis, como entradas para a função mul do TensorFlow:"
   ]
  },
  {
   "cell_type": "code",
   "execution_count": 11,
   "metadata": {},
   "outputs": [],
   "source": [
    "y = tf.multiply(a,b)"
   ]
  },
  {
   "cell_type": "markdown",
   "metadata": {},
   "source": [
    "Gerenciar o fluxo de execução, isso significa que devemos construir uma sessão:"
   ]
  },
  {
   "cell_type": "code",
   "execution_count": 12,
   "metadata": {},
   "outputs": [],
   "source": [
    "sess = tf.Session()"
   ]
  },
  {
   "cell_type": "markdown",
   "metadata": {},
   "source": [
    "Visualize os resultados. Nós executamos nosso modelo nas variáveis a e b, alimentando dados no grafo de fluxo de dados através dos espaços reservados previamente definidos."
   ]
  },
  {
   "cell_type": "code",
   "execution_count": 14,
   "metadata": {},
   "outputs": [
    {
     "data": {
      "text/plain": [
       "10"
      ]
     },
     "execution_count": 14,
     "metadata": {},
     "output_type": "execute_result"
    }
   ],
   "source": [
    "sess.run(y , feed_dict={a: 2, b: 5})"
   ]
  }
 ],
 "metadata": {
  "kernelspec": {
   "display_name": "Python 3",
   "language": "python",
   "name": "python3"
  },
  "language_info": {
   "codemirror_mode": {
    "name": "ipython",
    "version": 3
   },
   "file_extension": ".py",
   "mimetype": "text/x-python",
   "name": "python",
   "nbconvert_exporter": "python",
   "pygments_lexer": "ipython3",
   "version": "3.6.5"
  }
 },
 "nbformat": 4,
 "nbformat_minor": 2
}
